{
 "cells": [
  {
   "cell_type": "code",
   "execution_count": 29,
   "metadata": {},
   "outputs": [],
   "source": [
    "import numpy as np\n",
    "import matplotlib.pyplot as plt\n",
    "import pandas as pd\n",
    "import math\n",
    "import seaborn as sns\n",
    "#mengimpor library yang dibutuhkan\n",
    "\n",
    "dataset = pd.read_csv('Biaya_jamur.csv') #impor dataset\n",
    "dataset.head() #menampilkan 5 data set teratas\n",
    "\n",
    "\n",
    "x = dataset.iloc[:, :-1].values #x untuk bulan berbuah\n",
    "\n",
    "y = dataset.iloc[:, -1].values #y untuk biaya pemasukan \n",
    "#digunakan untuk menentukan variabel kesatuan \n",
    "\n",
    "from sklearn.model_selection import train_test_split\n",
    "x_train, x_test, y_train, y_test = train_test_split(x, y, test_size=0.2, random_state=0)\n",
    "#adalah pembagian data menjadi dua bagian untuk data training (training set) dan data test (test set)\n",
    "#yaitu 80% untuk data training dan 20% untuk data test"
   ]
  },
  {
   "cell_type": "code",
   "execution_count": 30,
   "metadata": {},
   "outputs": [
    {
     "data": {
      "text/plain": [
       "LinearRegression()"
      ]
     },
     "execution_count": 30,
     "metadata": {},
     "output_type": "execute_result"
    }
   ],
   "source": [
    "from sklearn.linear_model import LinearRegression\n",
    "regressor = LinearRegression()\n",
    "regressor.fit(x_train, y_train)"
   ]
  },
  {
   "cell_type": "code",
   "execution_count": 31,
   "metadata": {},
   "outputs": [],
   "source": [
    "y_pred = regressor.predict(x_test)\n",
    "#memprediksi hasil pemasukan jamur berdasarkan bulan secara otomatis"
   ]
  },
  {
   "cell_type": "code",
   "execution_count": 32,
   "metadata": {},
   "outputs": [
    {
     "data": {
      "text/html": [
       "<div>\n",
       "<style scoped>\n",
       "    .dataframe tbody tr th:only-of-type {\n",
       "        vertical-align: middle;\n",
       "    }\n",
       "\n",
       "    .dataframe tbody tr th {\n",
       "        vertical-align: top;\n",
       "    }\n",
       "\n",
       "    .dataframe thead th {\n",
       "        text-align: right;\n",
       "    }\n",
       "</style>\n",
       "<table border=\"1\" class=\"dataframe\">\n",
       "  <thead>\n",
       "    <tr style=\"text-align: right;\">\n",
       "      <th></th>\n",
       "      <th>Bulan_berbuah</th>\n",
       "      <th>Biaya</th>\n",
       "    </tr>\n",
       "  </thead>\n",
       "  <tbody>\n",
       "    <tr>\n",
       "      <th>count</th>\n",
       "      <td>30.000000</td>\n",
       "      <td>30.000000</td>\n",
       "    </tr>\n",
       "    <tr>\n",
       "      <th>mean</th>\n",
       "      <td>4.893333</td>\n",
       "      <td>86336.933333</td>\n",
       "    </tr>\n",
       "    <tr>\n",
       "      <th>std</th>\n",
       "      <td>2.861629</td>\n",
       "      <td>22267.204206</td>\n",
       "    </tr>\n",
       "    <tr>\n",
       "      <th>min</th>\n",
       "      <td>1.100000</td>\n",
       "      <td>37000.000000</td>\n",
       "    </tr>\n",
       "    <tr>\n",
       "      <th>25%</th>\n",
       "      <td>2.325000</td>\n",
       "      <td>68500.000000</td>\n",
       "    </tr>\n",
       "    <tr>\n",
       "      <th>50%</th>\n",
       "      <td>4.450000</td>\n",
       "      <td>93231.000000</td>\n",
       "    </tr>\n",
       "    <tr>\n",
       "      <th>75%</th>\n",
       "      <td>7.475000</td>\n",
       "      <td>103864.000000</td>\n",
       "    </tr>\n",
       "    <tr>\n",
       "      <th>max</th>\n",
       "      <td>10.000000</td>\n",
       "      <td>119000.000000</td>\n",
       "    </tr>\n",
       "  </tbody>\n",
       "</table>\n",
       "</div>"
      ],
      "text/plain": [
       "       Bulan_berbuah          Biaya\n",
       "count      30.000000      30.000000\n",
       "mean        4.893333   86336.933333\n",
       "std         2.861629   22267.204206\n",
       "min         1.100000   37000.000000\n",
       "25%         2.325000   68500.000000\n",
       "50%         4.450000   93231.000000\n",
       "75%         7.475000  103864.000000\n",
       "max        10.000000  119000.000000"
      ]
     },
     "execution_count": 32,
     "metadata": {},
     "output_type": "execute_result"
    }
   ],
   "source": [
    "dataset.describe()\n",
    "#menhitung analisis deskriptif secara otomatis dataset yang dipilih"
   ]
  },
  {
   "cell_type": "code",
   "execution_count": 33,
   "metadata": {},
   "outputs": [
    {
     "data": {
      "image/png": "[encoded data removed]",
      "text/plain": [
       "<Figure size 432x288 with 1 Axes>"
      ]
     },
     "metadata": {
      "needs_background": "light"
     },
     "output_type": "display_data"
    }
   ],
   "source": [
    "#visualisasi hasil test set dimana koordinat x merupakan lama berbuah jamur setiap bulannya\n",
    "#dan y merupakan biaya pemasukan jamur tersebut setiap bulannya\n",
    "plt.scatter(x_test, y_test, color ='red')\n",
    "plt.plot(x_train, regressor.predict(x_train), color='blue')\n",
    "plt.title('Lama Berbuah Jamur vs Biaya Pemasukan(Test Set)')\n",
    "plt.xlabel('Lama Berbuah(Bulan)')\n",
    "plt.ylabel('Biaya Pemasukan')\n",
    "plt.show()"
   ]
  },
  {
   "cell_type": "code",
   "execution_count": 34,
   "metadata": {},
   "outputs": [
    {
     "data": {
      "image/png": "[encoded data removed]",
      "text/plain": [
       "<Figure size 432x288 with 1 Axes>"
      ]
     },
     "metadata": {
      "needs_background": "light"
     },
     "output_type": "display_data"
    }
   ],
   "source": [
    "#plot grafik\n",
    "dataset.plot(x='Bulan_berbuah', y = 'Biaya', style='o') \n",
    "plt.title('Lama Berbuah Jamur vs Biaya Pemasukan')\n",
    "plt.xlabel('Lama Berbuah(Bulan)')\n",
    "plt.ylabel('Biaya Pemasukan')\n",
    "plt.show() #tampilkan grafik plot\n",
    "#koordinat x merupakan lama berbuah jamur\n",
    "#koordinat y merupakan biaya pemasukan daripada jamur \n",
    "#tersebut setiap bulannya\n"
   ]
  },
  {
   "cell_type": "code",
   "execution_count": 35,
   "metadata": {},
   "outputs": [
    {
     "data": {
      "image/png": "[encoded data removed]",
      "text/plain": [
       "<Figure size 432x288 with 1 Axes>"
      ]
     },
     "metadata": {
      "needs_background": "light"
     },
     "output_type": "display_data"
    }
   ],
   "source": [
    "#visualisasi hasil training set\n",
    "#koordinat x merupakan lama berbuah jamur dalam tahun\n",
    "#koordinat y merupakan biaya/uang yang didapat setiap bulannya berbuah\n",
    "plt.scatter(x_train, y_train, color ='red')\n",
    "plt.plot(x_train, regressor.predict(x_train), color='blue')\n",
    "plt.title('Lama Berbuah Jamur vs Biaya Pemasukan(Test Set)')\n",
    "plt.xlabel('Lama Berbuah(Bulan)')\n",
    "plt.ylabel('Biaya Pemasukan')\n",
    "plt.show()"
   ]
  }
 ],
 "metadata": {
  "interpreter": {
   "hash": "c2960590e598486dbf614ce0bfba627eee94ed98eb36fbf4097e95828fd27427"
  },
  "kernelspec": {
   "display_name": "Python 3.10.0 64-bit",
   "language": "python",
   "name": "python3"
  },
  "language_info": {
   "codemirror_mode": {
    "name": "ipython",
    "version": 3
   },
   "file_extension": ".py",
   "mimetype": "text/x-python",
   "name": "python",
   "nbconvert_exporter": "python",
   "pygments_lexer": "ipython3",
   "version": "3.9.7"
  },
  "orig_nbformat": 4
 },
 "nbformat": 4,
 "nbformat_minor": 2
}
